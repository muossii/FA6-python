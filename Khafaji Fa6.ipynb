{
 "cells": [
  {
   "cell_type": "code",
   "execution_count": 34,
   "id": "c5a58715",
   "metadata": {},
   "outputs": [
    {
     "name": "stdout",
     "output_type": "stream",
     "text": [
      "Please input a base and an exponent, the program will calculate it for you.\n",
      "\n",
      "Base: 1000\n",
      "Exponent: 20\n",
      "The answer is: 1000000000000000000000000000000000000000000000000000000000000\n",
      "0.0  milliseconds to run\n"
     ]
    }
   ],
   "source": [
    "from fractions import Fraction\n",
    "import time\n",
    "def recursive_exponent(base,exponent,term,product):\n",
    "    if exponent>=0:\n",
    "        if term==0:\n",
    "            product=1\n",
    "        else:\n",
    "            product*=base\n",
    "    elif exponent<0:\n",
    "        if term==0:\n",
    "            product=1\n",
    "        else:\n",
    "            product*=Fraction(1,base) \n",
    "    if term!=exponent:\n",
    "        if exponent>0:\n",
    "            term+=1\n",
    "        elif exponent<0:\n",
    "            term-=1\n",
    "        recursive_exponent(base,exponent,term,product)\n",
    "    else:\n",
    "        print(\"The answer is:\",product)\n",
    "    \n",
    "print(\"Please input a base and an exponent, the program will calculate it for you.\\n\")\n",
    "base = int(input(\"Base: \"))\n",
    "term=0\n",
    "product=1\n",
    "if base==0:\n",
    "    while True:\n",
    "        try:\n",
    "            print(\"\\nBase is 0, please enter an integer greater than 0.\\n\")\n",
    "            exponent=int(input(\"Exponent: \"))\n",
    "            if exponent<=0:\n",
    "                raise ValueError\n",
    "            break\n",
    "        except ValueError:\n",
    "            print(\"\\nInvalid input, result will be undefined\")\n",
    "else:\n",
    "    exponent=int(input(\"Exponent: \"))\n",
    "\n",
    "st=time.time()\n",
    "recursive_exponent(base,exponent,term,product)\n",
    "et=time.time()\n",
    "totime=(et-st)*1000\n",
    "print(totime,\" milliseconds to run\")"
   ]
  },
  {
   "cell_type": "code",
   "execution_count": 54,
   "id": "f0dafa48",
   "metadata": {},
   "outputs": [
    {
     "name": "stdout",
     "output_type": "stream",
     "text": [
      "Please input a base and an exponent, the program will calculate it for you.\n",
      "\n",
      "Base: 10000\n",
      "Exponent: 6\n",
      "1000000000000000000000000 \n",
      "\n",
      "0.0  milliseconds to run\n"
     ]
    }
   ],
   "source": [
    "def iterative_exponent(base,exponent):\n",
    "    term=0\n",
    "    if exponent==0:\n",
    "        product=1\n",
    "    while term!=exponent:\n",
    "        if term==0:\n",
    "            product=1\n",
    "        if exponent>0:\n",
    "            product*=base\n",
    "            term+=1\n",
    "        elif exponent<0:\n",
    "            product*=Fraction(1,base)\n",
    "            term-=1\n",
    "    return product\n",
    "    \n",
    "print(\"Please input a base and an exponent, the program will calculate it for you.\\n\")\n",
    "base = int(input(\"Base: \"))\n",
    "term=0\n",
    "product=1\n",
    "if base==0:\n",
    "    while True:\n",
    "        try:\n",
    "            print(\"\\nBase is 0, please enter an integer greater than 0.\\n\")\n",
    "            exponent=int(input(\"Exponent: \"))\n",
    "            if exponent<=0:\n",
    "                raise ValueError\n",
    "            break\n",
    "        except ValueError:\n",
    "            print(\"\\nInvalid input, result will be undefined\")\n",
    "else:\n",
    "    exponent=int(input(\"Exponent: \"))\n",
    "\n",
    "st=time.time()\n",
    "answer=iterative_exponent(base,exponent)\n",
    "et=time.time()\n",
    "totime=(et-st)*1000\n",
    "print(answer,\"\\n\")\n",
    "print(totime,\" milliseconds to run\")"
   ]
  },
  {
   "cell_type": "code",
   "execution_count": 77,
   "id": "83ad1833",
   "metadata": {},
   "outputs": [
    {
     "name": "stdout",
     "output_type": "stream",
     "text": [
      "Please input an exponent to the base of 2 (2^n), and we'll calculate the sum of all the terms leading up to that exponent (from 0).\n",
      "exponent: -6\n",
      "The answer is: 127/64\n",
      "0.0  milliseconds to run\n"
     ]
    }
   ],
   "source": [
    "def recursive_two(exponent,product,adds,term):\n",
    "    if exponent>=0:\n",
    "        if term==0:\n",
    "            product=1\n",
    "        else:\n",
    "            product*=2\n",
    "    elif exponent<0:\n",
    "        if term==0:\n",
    "            product=1\n",
    "        else: \n",
    "            product*=Fraction(1,2)\n",
    "    adds=adds+product\n",
    "    if term!=exponent:\n",
    "        if exponent>0:\n",
    "            term+=1\n",
    "        elif exponent<0:\n",
    "            term-=1\n",
    "        recursive_two(exponent,product,adds,term)\n",
    "    else:\n",
    "        print(\"The answer is:\",adds) \n",
    "        \n",
    "    \n",
    "print(\"Please input an exponent to the base of 2 (2^n), and we'll calculate the sum of all the terms leading up to that exponent (from 0).\")\n",
    "\n",
    "exponent=int(input(\"exponent: \"))\n",
    "product=1\n",
    "adds=0\n",
    "term=0\n",
    "\n",
    "st=time.time()\n",
    "recursive_two(exponent,product,adds,term)\n",
    "et=time.time()\n",
    "totime=(et-st)*1000\n",
    "print(totime,\" milliseconds to run\")"
   ]
  },
  {
   "cell_type": "code",
   "execution_count": 93,
   "id": "99037641",
   "metadata": {},
   "outputs": [
    {
     "name": "stdout",
     "output_type": "stream",
     "text": [
      "Please input an exponent to the base of 2 (2^n), and we'll calculate the sum of all the terms leading up to that exponent (from 0).\n",
      "exponent: 5\n",
      "63 \n",
      "\n",
      "0.0  milliseconds to run\n"
     ]
    }
   ],
   "source": [
    "def iterative_two(exponent):\n",
    "    term=0\n",
    "    adds=0\n",
    "    product=1\n",
    "    if exponent==0:\n",
    "        product=1\n",
    "    adds+=product\n",
    "    while term!=exponent:\n",
    "        if term==0:\n",
    "            product=1\n",
    "        if exponent>0:\n",
    "            product*=2\n",
    "            term+=1\n",
    "        elif exponent<0:\n",
    "            product*=Fraction(1,2)\n",
    "            term-=1\n",
    "        adds+=product\n",
    "    return adds\n",
    "print(\"Please input an exponent to the base of 2 (2^n), and we'll calculate the sum of all the terms leading up to that exponent (from 0).\")\n",
    "exponent=int(input(\"exponent: \"))\n",
    "st=time.time()\n",
    "answer=iterative_two(exponent)\n",
    "et=time.time()\n",
    "totime=(et-st)*1000\n",
    "print(answer,\"\\n\")\n",
    "print(totime,\" milliseconds to run\")"
   ]
  },
  {
   "cell_type": "code",
   "execution_count": null,
   "id": "59d36e17",
   "metadata": {},
   "outputs": [],
   "source": [
    "## There is virtually no difference in speed regarding recursive and iterative processes. However, for all it's worth, iterative is simpler to write"
   ]
  }
 ],
 "metadata": {
  "kernelspec": {
   "display_name": "Python 3 (ipykernel)",
   "language": "python",
   "name": "python3"
  },
  "language_info": {
   "codemirror_mode": {
    "name": "ipython",
    "version": 3
   },
   "file_extension": ".py",
   "mimetype": "text/x-python",
   "name": "python",
   "nbconvert_exporter": "python",
   "pygments_lexer": "ipython3",
   "version": "3.9.13"
  }
 },
 "nbformat": 4,
 "nbformat_minor": 5
}
